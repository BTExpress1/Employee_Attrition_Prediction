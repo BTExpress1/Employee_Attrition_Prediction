{
 "cells": [
  {
   "cell_type": "markdown",
   "id": "74e55150",
   "metadata": {},
   "source": [
    "# 02 — Preprocessing & Training"
   ]
  },
  {
   "cell_type": "code",
   "execution_count": null,
   "id": "33cec2f9",
   "metadata": {},
   "outputs": [],
   "source": [
    "print('Preprocessing + Training placeholder')"
   ]
  }
 ],
 "metadata": {
  "kernelspec": {
   "display_name": "Python 3",
   "language": "python",
   "name": "python3"
  }
 },
 "nbformat": 4,
 "nbformat_minor": 5
}