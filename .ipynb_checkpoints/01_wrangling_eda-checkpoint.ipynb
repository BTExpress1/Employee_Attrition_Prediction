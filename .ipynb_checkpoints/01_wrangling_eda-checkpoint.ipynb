{
 "cells": [
  {
   "cell_type": "markdown",
   "id": "3ad836c1",
   "metadata": {},
   "source": [
    "# 01 — Data Wrangling & EDA"
   ]
  },
  {
   "cell_type": "code",
   "execution_count": null,
   "id": "789a3c11",
   "metadata": {},
   "outputs": [],
   "source": [
    "print('Wrangling + EDA placeholder')"
   ]
  }
 ],
 "metadata": {
  "kernelspec": {
   "display_name": "Python 3",
   "language": "python",
   "name": "python3"
  }
 },
 "nbformat": 4,
 "nbformat_minor": 5
}